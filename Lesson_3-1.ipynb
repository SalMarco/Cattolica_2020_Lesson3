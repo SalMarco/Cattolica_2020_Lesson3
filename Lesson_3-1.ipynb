{
 "cells": [
  {
   "cell_type": "markdown",
   "metadata": {
    "slideshow": {
     "slide_type": "slide"
    }
   },
   "source": [
    "Introduction to Python\n",
    "================================\n",
    "\n",
    "Lesson 2 - Part1\n",
    "--------"
   ]
  },
  {
   "cell_type": "markdown",
   "metadata": {
    "slideshow": {
     "slide_type": "slide"
    }
   },
   "source": [
    "## Summary\n",
    "\n",
    "In this Lesson we will start using Python in order to create some models.\n",
    "\n",
    "The models that we will create are:\n",
    "  - Linear\n",
    "\n",
    "In order to do so we must intruduce some important libraries:\n",
    "\n",
    "  - Pandas\n",
    "  - Sklearn\n",
    "  - Numpy"
   ]
  },
  {
   "cell_type": "code",
   "execution_count": null,
   "metadata": {
    "slideshow": {
     "slide_type": "skip"
    }
   },
   "outputs": [],
   "source": [
    "%load_ext rpy2.ipython"
   ]
  },
  {
   "cell_type": "markdown",
   "metadata": {
    "slideshow": {
     "slide_type": "slide"
    }
   },
   "source": [
    "## Numpy\n",
    "\n",
    "Citing from the [Numpy Website](http://www.numpy.org/): NumPy is the fundamental package for scientific computing with Python. It contains among other things:\n",
    "  - a powerful N-dimensional array object\n",
    "  - sophisticated (broadcasting) functions\n",
    "  - tools for integrating C/C++ and Fortran code\n",
    "  - useful linear algebra, Fourier transform, and random number capabilities\n",
    "For the moment our focus is on the first point, in oder to start usign proper arrays."
   ]
  },
  {
   "cell_type": "code",
   "execution_count": null,
   "metadata": {
    "slideshow": {
     "slide_type": "subslide"
    }
   },
   "outputs": [],
   "source": [
    "import numpy as np\n",
    "#Creation of an array\n",
    "ar1=np.array([1,2,3])\n",
    "print('type di ar1',type(ar1))\n",
    "ar1"
   ]
  },
  {
   "cell_type": "markdown",
   "metadata": {},
   "source": [
    "Note the difference between this new object and the standard Python list:"
   ]
  },
  {
   "cell_type": "code",
   "execution_count": null,
   "metadata": {},
   "outputs": [],
   "source": [
    "classList = [1,2,3]\n",
    "print('Type of classList:',type(classList))\n",
    "print(ar1,classList)"
   ]
  },
  {
   "cell_type": "code",
   "execution_count": null,
   "metadata": {
    "slideshow": {
     "slide_type": "fragment"
    }
   },
   "outputs": [],
   "source": [
    "#Use shape to see the dimension of ar1\n",
    "print('Dimension of ar1 are:',ar1.shape)\n",
    "try:\n",
    "    print('Using .shape()')\n",
    "    print(ar1,ar1.shape())\n",
    "except Exception as e:\n",
    "    print('ERROR:',e)\n",
    "    print('You must use .shape without brackets')\n",
    "    print(ar1,ar1.shape)"
   ]
  },
  {
   "cell_type": "markdown",
   "metadata": {},
   "source": [
    "Why we have to use `shape`? We can't use `len`?"
   ]
  },
  {
   "cell_type": "code",
   "execution_count": null,
   "metadata": {},
   "outputs": [],
   "source": [
    "len(ar1)"
   ]
  },
  {
   "cell_type": "code",
   "execution_count": null,
   "metadata": {
    "slideshow": {
     "slide_type": "fragment"
    }
   },
   "outputs": [],
   "source": [
    "#Creation of a multimensional array\n",
    "ar2=np.array([[1,2,3],[4,5,6]])#,dtype=complex\n",
    "print('Shape di ar2',ar2.shape)\n",
    "print(ar2)\n",
    "print(len(ar2))\n",
    "print(type(ar2))"
   ]
  },
  {
   "cell_type": "markdown",
   "metadata": {},
   "source": [
    "## Comparison with R array\n",
    "\n",
    "Numpy array are very similar to `R` array:"
   ]
  },
  {
   "cell_type": "code",
   "execution_count": null,
   "metadata": {},
   "outputs": [],
   "source": [
    "%%R\n",
    "\n",
    "arR1 = array(c(1,2,3,4,5,6),c(2,3))\n",
    "arR1"
   ]
  },
  {
   "cell_type": "markdown",
   "metadata": {
    "slideshow": {
     "slide_type": "fragment"
    }
   },
   "source": [
    "**NOTE**: array and matrix in nupy are different objects"
   ]
  },
  {
   "cell_type": "code",
   "execution_count": null,
   "metadata": {
    "slideshow": {
     "slide_type": "fragment"
    }
   },
   "outputs": [],
   "source": [
    "#Creatiomn of a matrix\n",
    "mt=np.mat('1 2;3 4')\n",
    "print(type(mt))\n",
    "print(mt)"
   ]
  },
  {
   "cell_type": "markdown",
   "metadata": {},
   "source": [
    "But the results are the same"
   ]
  },
  {
   "cell_type": "code",
   "execution_count": null,
   "metadata": {},
   "outputs": [],
   "source": [
    "print(mt,np.linalg.det(mt))\n",
    "ar_mt=np.array([[1,2],[3,4]])\n",
    "print(ar_mt,np.linalg.det(ar_mt))"
   ]
  },
  {
   "cell_type": "code",
   "execution_count": null,
   "metadata": {
    "slideshow": {
     "slide_type": "fragment"
    }
   },
   "outputs": [],
   "source": [
    "#Putting the matrix inside an array\n",
    "ar3=np.array([np.mat('1 2; 3 4'),np.mat('4 5; 6 7')])\n",
    "print(type(ar3))\n",
    "print(ar3)"
   ]
  },
  {
   "cell_type": "code",
   "execution_count": null,
   "metadata": {
    "slideshow": {
     "slide_type": "fragment"
    }
   },
   "outputs": [],
   "source": [
    "#In order to keep the correct type\n",
    "ar3=np.array(np.mat('1 2; 3 4'), subok=True)\n",
    "print(type(ar3))\n",
    "print(ar3)\n",
    "#ar3\n",
    "# mt"
   ]
  },
  {
   "cell_type": "markdown",
   "metadata": {},
   "source": [
    "How do I select elements inside an array?"
   ]
  },
  {
   "cell_type": "code",
   "execution_count": null,
   "metadata": {
    "slideshow": {
     "slide_type": "fragment"
    }
   },
   "outputs": [],
   "source": [
    "print(ar2)\n",
    "print('-------')\n",
    "#The same way we do with list\n",
    "print(ar2[1])\n",
    "print(type(ar2[1]))\n",
    "#To access a singl element\n",
    "ar2[1,2]"
   ]
  },
  {
   "cell_type": "markdown",
   "metadata": {
    "slideshow": {
     "slide_type": "slide"
    }
   },
   "source": [
    "**NOTE**: as we have seen in the previos lesson, also with `np.array` we have to use `.copy()`.\n",
    "\n",
    "Without `.copy()` we'll create a pointer to the original array."
   ]
  },
  {
   "cell_type": "code",
   "execution_count": null,
   "metadata": {
    "slideshow": {
     "slide_type": "fragment"
    }
   },
   "outputs": [],
   "source": [
    "print(ar2)\n",
    "ar2_bis=ar2.copy()\n",
    "ar2_bis[1,]=[0,0,0]"
   ]
  },
  {
   "cell_type": "markdown",
   "metadata": {
    "slideshow": {
     "slide_type": "fragment"
    }
   },
   "source": [
    "What'll be the result of the operation below?"
   ]
  },
  {
   "cell_type": "code",
   "execution_count": null,
   "metadata": {
    "slideshow": {
     "slide_type": "fragment"
    }
   },
   "outputs": [],
   "source": [
    "print(ar2)\n",
    "#ar2_bis\n",
    "print(ar2_bis)"
   ]
  },
  {
   "cell_type": "markdown",
   "metadata": {
    "slideshow": {
     "slide_type": "slide"
    }
   },
   "source": [
    "## Other properties of np.array\n",
    "\n",
    "Just to mention some other features, we can look to append:"
   ]
  },
  {
   "cell_type": "code",
   "execution_count": null,
   "metadata": {
    "slideshow": {
     "slide_type": "subslide"
    }
   },
   "outputs": [],
   "source": [
    "ap1=np.append([1, 2, 3], [[4, 5, 6], [7, 8, 9]])\n",
    "print(ap1,type(ap1))"
   ]
  },
  {
   "cell_type": "code",
   "execution_count": null,
   "metadata": {
    "slideshow": {
     "slide_type": "subslide"
    }
   },
   "outputs": [],
   "source": [
    "#Please note that the result is flattened\n",
    "ap2=np.append([[1, 2, 3]], [[4, 5, 6], [7, 8, 9]], axis=0)\n",
    "print(ap2,type(ap2))"
   ]
  },
  {
   "cell_type": "code",
   "execution_count": null,
   "metadata": {
    "slideshow": {
     "slide_type": "subslide"
    }
   },
   "outputs": [],
   "source": [
    "ap3=np.append([[1, 2, 3],[1,1,1]], [[4, 5, 6], [7, 8, 9]], axis=1)\n",
    "print(ap3,type(ap3))"
   ]
  },
  {
   "cell_type": "code",
   "execution_count": null,
   "metadata": {},
   "outputs": [],
   "source": [
    "#Pay attention to the diomensions!\n",
    "ap3=np.append([1, 2, 3], [[4, 5, 6], [7, 8, 9]], axis=1)"
   ]
  },
  {
   "cell_type": "markdown",
   "metadata": {},
   "source": [
    "## Exercise Numpy\n",
    "\n",
    "Create an array of 3 row and 2 columns.\n",
    "\n",
    "Add a row of 0.\n",
    "\n",
    "Add to each row ['a','b']."
   ]
  },
  {
   "cell_type": "code",
   "execution_count": null,
   "metadata": {},
   "outputs": [],
   "source": []
  },
  {
   "cell_type": "markdown",
   "metadata": {
    "slideshow": {
     "slide_type": "slide"
    }
   },
   "source": [
    "## Comparison between array an list\n",
    "\n",
    "Let's understand why for big data it's important to use an array istead of a list.\n",
    "\n",
    "We are going to do the sum of the list and two array. In one case is the sum of number, in the other the sum between two arrays like in linear algebra."
   ]
  },
  {
   "cell_type": "code",
   "execution_count": null,
   "metadata": {
    "slideshow": {
     "slide_type": "subslide"
    }
   },
   "outputs": [],
   "source": [
    "a=[i for i in range(0,10000)]\n",
    "%timeit -n 100 s=a+a\n",
    "b=np.array([i for i in range(0,10000)])\n",
    "%timeit -n 100 s2=b+b"
   ]
  },
  {
   "cell_type": "code",
   "execution_count": null,
   "metadata": {
    "slideshow": {
     "slide_type": "fragment"
    }
   },
   "outputs": [],
   "source": [
    "%%R\n",
    "c=as.integer(seq(1,10))\n",
    "print(class(c),c)\n",
    "d=data.frame(c)\n",
    "print(class(d))\n"
   ]
  },
  {
   "cell_type": "code",
   "execution_count": null,
   "metadata": {
    "slideshow": {
     "slide_type": "fragment"
    }
   },
   "outputs": [],
   "source": [
    "%%timeit -n 100\n",
    "%R c+c"
   ]
  },
  {
   "cell_type": "code",
   "execution_count": null,
   "metadata": {
    "slideshow": {
     "slide_type": "fragment"
    }
   },
   "outputs": [],
   "source": [
    "%%timeit -n 100\n",
    "%R d+d"
   ]
  },
  {
   "cell_type": "markdown",
   "metadata": {
    "slideshow": {
     "slide_type": "slide"
    }
   },
   "source": [
    "## Pandas \n",
    "\n",
    "Citing the [Pandas Website](https://pandas.pydata.org/): *pandas is an open source, BSD-licensed library providing high-performance, easy-to-use data structures and data analysis tools for the Python programming language*.\n",
    "\n",
    "What interest us the most is the possibility of create and use, like in R, **dataframes** ([Pandas DataFrame](https://pandas.pydata.org/pandas-docs/stable/generated/pandas.DataFrame.html))."
   ]
  },
  {
   "cell_type": "code",
   "execution_count": null,
   "metadata": {
    "slideshow": {
     "slide_type": "subslide"
    }
   },
   "outputs": [],
   "source": [
    "import pandas as pd\n",
    "\n",
    "#Creation of a dataframe\n",
    "df=pd.DataFrame({'a':[1,2,3],'b':[4,5,6]})\n",
    "print(df,'\\n',type(df))"
   ]
  },
  {
   "cell_type": "markdown",
   "metadata": {},
   "source": [
    "Remembering previous lessons, can you tell what we have just done?\n",
    "How can We generalize the previous expression?"
   ]
  },
  {
   "cell_type": "code",
   "execution_count": null,
   "metadata": {
    "slideshow": {
     "slide_type": "subslide"
    }
   },
   "outputs": [],
   "source": [
    "#We can create a dataframe also using another syntax\n",
    "df1_bis = pd.DataFrame([[10,20,30],[11,21,31],[1,2,3]],columns=['ten','twenty','thirty'])\n",
    "print(df1_bis)"
   ]
  },
  {
   "cell_type": "code",
   "execution_count": null,
   "metadata": {
    "slideshow": {
     "slide_type": "subslide"
    }
   },
   "outputs": [],
   "source": [
    "print('We can add columns afterward')\n",
    "df['c']=[0,0,0]\n",
    "print(df)"
   ]
  },
  {
   "cell_type": "code",
   "execution_count": null,
   "metadata": {
    "slideshow": {
     "slide_type": "subslide"
    }
   },
   "outputs": [],
   "source": [
    "#Creation of a dataframe with index\n",
    "df2 = pd.DataFrame([[1, 2], [4, 5], [7, 8]],\n",
    "                  index=['cobra', 'viper', 'sidewinder'],\n",
    "                  columns=['max_speed', 'shield'])\n",
    "print(df2)\n",
    "print(type(df2))"
   ]
  },
  {
   "cell_type": "code",
   "execution_count": null,
   "metadata": {
    "slideshow": {
     "slide_type": "subslide"
    }
   },
   "outputs": [],
   "source": [
    "df3=pd.DataFrame({'col1':[10,20,30],'col2':['y','z','k']},index=['a','b','c'])\n",
    "df3"
   ]
  },
  {
   "cell_type": "markdown",
   "metadata": {
    "slideshow": {
     "slide_type": "slide"
    }
   },
   "source": [
    "**NOTE**: a dataframe can be created also starting from a `np.array` simply using `pd.DataFrame`."
   ]
  },
  {
   "cell_type": "code",
   "execution_count": null,
   "metadata": {
    "slideshow": {
     "slide_type": "subslide"
    }
   },
   "outputs": [],
   "source": [
    "print(type(ap2))\n",
    "dfFromArray=pd.DataFrame(ap2)#,columns=['pippo','pluto','paperino'])\n",
    "print(ap2)\n",
    "dfFromArray\n"
   ]
  },
  {
   "cell_type": "code",
   "execution_count": null,
   "metadata": {},
   "outputs": [],
   "source": [
    "df2"
   ]
  },
  {
   "cell_type": "markdown",
   "metadata": {
    "slideshow": {
     "slide_type": "slide"
    }
   },
   "source": [
    "## Properties of a dataframe\n",
    "\n",
    "In the followig cell there is a sample of attributes ad properties of a pandas dataframe.\n",
    "\n",
    "Some of them are:\n",
    "\n",
    "  - `index`\n",
    "  - `values`\n",
    "  - `max()`\n",
    "  - `add()`"
   ]
  },
  {
   "cell_type": "code",
   "execution_count": null,
   "metadata": {
    "slideshow": {
     "slide_type": "subslide"
    }
   },
   "outputs": [],
   "source": [
    "%qtconsole"
   ]
  },
  {
   "cell_type": "code",
   "execution_count": null,
   "metadata": {
    "slideshow": {
     "slide_type": "subslide"
    }
   },
   "outputs": [],
   "source": [
    "#print(df)\n",
    "df.index\n",
    "df.values\n",
    "df.columns\n",
    "df.max()\n",
    "df.min()\n",
    "df.mean()\n",
    "df.median()\n",
    "df.add(df)\n",
    "#se the link above"
   ]
  },
  {
   "cell_type": "code",
   "execution_count": null,
   "metadata": {},
   "outputs": [],
   "source": [
    "print(df)\n",
    "df\n"
   ]
  },
  {
   "cell_type": "markdown",
   "metadata": {},
   "source": [
    "**NOTE**: using one of the methods above, we have another way to set columns names in a dataframe  "
   ]
  },
  {
   "cell_type": "code",
   "execution_count": null,
   "metadata": {},
   "outputs": [],
   "source": [
    "df_names = pd.DataFrame([[1,2,3],[4,5,6]])\n",
    "print(df_names)\n",
    "df_names.columns=['a','b','c']\n",
    "df_names"
   ]
  },
  {
   "cell_type": "markdown",
   "metadata": {
    "slideshow": {
     "slide_type": "slide"
    }
   },
   "source": [
    "## Display dataframes nicely\n",
    "\n",
    "In order to print a dataframe in a nice way, like it is visualized without print if it is at the of a cell, we can use `display` from the library `IPython.display`.\n",
    "\n",
    "It is also possible to convert a dataframe to html with `to_html`, from the same library, and then use display.\n",
    "\n",
    "**NOTE**: display can also print text before and after an object, just like `print`."
   ]
  },
  {
   "cell_type": "code",
   "execution_count": null,
   "metadata": {
    "slideshow": {
     "slide_type": "subslide"
    }
   },
   "outputs": [],
   "source": [
    "from IPython.display import display, HTML\n",
    "print(df)\n",
    "display(df)\n",
    "df"
   ]
  },
  {
   "cell_type": "code",
   "execution_count": null,
   "metadata": {
    "slideshow": {
     "slide_type": "subslide"
    }
   },
   "outputs": [],
   "source": [
    "#Alternative\n",
    "print('using .to_html()')\n",
    "display(HTML(df.to_html()))"
   ]
  },
  {
   "cell_type": "code",
   "execution_count": null,
   "metadata": {
    "slideshow": {
     "slide_type": "subslide"
    }
   },
   "outputs": [],
   "source": [
    "print('Display can also print text')\n",
    "display('Some random text',df)"
   ]
  },
  {
   "cell_type": "markdown",
   "metadata": {
    "slideshow": {
     "slide_type": "slide"
    }
   },
   "source": [
    "## How to select row and columns\n",
    "\n",
    "Let's dive a little bit more in some dataframes property.\n",
    "\n",
    "Important functions for selecting dataframe's elements are:\n",
    "  - `index` \n",
    "  - `loc`\n",
    "  - `iloc`\n",
    " \n",
    "The difference between `loc` and `iloc` is subtle:\n",
    "  - `loc` allow to select elemets by **name**\n",
    "  - `iloc` allow to select elemets by **position**\n",
    "\n",
    "It always possible to select columns by name with `[[]]`."
   ]
  },
  {
   "cell_type": "code",
   "execution_count": null,
   "metadata": {
    "slideshow": {
     "slide_type": "subslide"
    }
   },
   "outputs": [],
   "source": [
    "#Creation of a dataframe without an index\n",
    "dfCity=pd.DataFrame({'val1':[10,20,30],'val2':[-1,-2,-3],'city':['Roma','Milano','Napoli']})\n",
    "print('dfCity before the cration of the index')\n",
    "display(dfCity)\n",
    "dfCity.index"
   ]
  },
  {
   "cell_type": "code",
   "execution_count": null,
   "metadata": {
    "slideshow": {
     "slide_type": "subslide"
    }
   },
   "outputs": [],
   "source": [
    "#Selecting one column as index\n",
    "dfCity.set_index('city',inplace=True)#inplace\n",
    "display(dfCity)\n",
    "dfCity.index"
   ]
  },
  {
   "cell_type": "markdown",
   "metadata": {},
   "source": [
    "### WARNING #1\n",
    "From now on, we must take care on the parameter `inplace` when we use multiple functions over a dataframe"
   ]
  },
  {
   "cell_type": "code",
   "execution_count": null,
   "metadata": {
    "slideshow": {
     "slide_type": "subslide"
    }
   },
   "outputs": [],
   "source": [
    "#Selecting column by name\n",
    "display(df)\n",
    "print('Selection of a column by name')\n",
    "display(df[['a']])"
   ]
  },
  {
   "cell_type": "markdown",
   "metadata": {},
   "source": [
    "**NOTE:** we can select a column also like this"
   ]
  },
  {
   "cell_type": "code",
   "execution_count": null,
   "metadata": {},
   "outputs": [],
   "source": [
    "df['a']"
   ]
  },
  {
   "cell_type": "markdown",
   "metadata": {},
   "source": [
    "Can you tell what is the difference?"
   ]
  },
  {
   "cell_type": "code",
   "execution_count": null,
   "metadata": {
    "slideshow": {
     "slide_type": "subslide"
    }
   },
   "outputs": [],
   "source": [
    "print('Selectig a column using loc')\n",
    "display(df.loc[:,'b'])"
   ]
  },
  {
   "cell_type": "code",
   "execution_count": null,
   "metadata": {
    "slideshow": {
     "slide_type": "subslide"
    }
   },
   "outputs": [],
   "source": [
    "print('Selectig a row using loc')\n",
    "display(df.loc[1])"
   ]
  },
  {
   "cell_type": "code",
   "execution_count": null,
   "metadata": {
    "slideshow": {
     "slide_type": "subslide"
    }
   },
   "outputs": [],
   "source": [
    "#Select column by position\n",
    "print(df)\n",
    "print('Print of the second colum using iloc')\n",
    "display(df.iloc[:,1])"
   ]
  },
  {
   "cell_type": "code",
   "execution_count": null,
   "metadata": {
    "slideshow": {
     "slide_type": "subslide"
    }
   },
   "outputs": [],
   "source": [
    "print('Selection of the second row usign iloc')\n",
    "display(df.iloc[1])"
   ]
  },
  {
   "cell_type": "markdown",
   "metadata": {
    "slideshow": {
     "slide_type": "subslide"
    }
   },
   "source": [
    "Let's focus a little bit on the difference between `loc` and `iloc`:"
   ]
  },
  {
   "cell_type": "code",
   "execution_count": null,
   "metadata": {
    "slideshow": {
     "slide_type": "fragment"
    }
   },
   "outputs": [],
   "source": [
    "display(df2)"
   ]
  },
  {
   "cell_type": "code",
   "execution_count": null,
   "metadata": {
    "slideshow": {
     "slide_type": "fragment"
    }
   },
   "outputs": [],
   "source": [
    "display('selection of cobra',df2.loc['cobra'])"
   ]
  },
  {
   "cell_type": "code",
   "execution_count": null,
   "metadata": {
    "slideshow": {
     "slide_type": "fragment"
    }
   },
   "outputs": [],
   "source": [
    "display('Selection of row and column with loc',df2.loc['cobra','max_speed'])"
   ]
  },
  {
   "cell_type": "code",
   "execution_count": null,
   "metadata": {
    "slideshow": {
     "slide_type": "fragment"
    }
   },
   "outputs": [],
   "source": [
    "display('Selection of row and column with iloc',df2.iloc[0,1])"
   ]
  },
  {
   "cell_type": "markdown",
   "metadata": {
    "slideshow": {
     "slide_type": "fragment"
    }
   },
   "source": [
    "**NOTE**: In both cases we can use a list to select multiple rows/columns or `:` to select a range"
   ]
  },
  {
   "cell_type": "code",
   "execution_count": null,
   "metadata": {
    "slideshow": {
     "slide_type": "fragment"
    }
   },
   "outputs": [],
   "source": [
    "display(df2)\n",
    "display('Row cobra, all cols',df2.loc['cobra',:])"
   ]
  },
  {
   "cell_type": "code",
   "execution_count": null,
   "metadata": {
    "slideshow": {
     "slide_type": "fragment"
    }
   },
   "outputs": [],
   "source": [
    "display('Rows cobra and sidewinder, columns max speed',df2.loc[['cobra','sidewinder'],'max_speed'])"
   ]
  },
  {
   "cell_type": "code",
   "execution_count": null,
   "metadata": {
    "slideshow": {
     "slide_type": "fragment"
    }
   },
   "outputs": [],
   "source": [
    "display(df2)\n",
    "display('Using iloc',df2.iloc[0:2,0])\n",
    "#NOTE 0:i i is excluded"
   ]
  },
  {
   "cell_type": "markdown",
   "metadata": {},
   "source": [
    "So far the difference between `loc` and `iloc` sesms minimal."
   ]
  },
  {
   "cell_type": "code",
   "execution_count": null,
   "metadata": {
    "slideshow": {
     "slide_type": "fragment"
    }
   },
   "outputs": [],
   "source": [
    "display(df)\n",
    "display('Selection with loc',df.loc[0])\n",
    "display('Selection with iloc',df.iloc[0])"
   ]
  },
  {
   "cell_type": "markdown",
   "metadata": {},
   "source": [
    "Can you tell a case when the difference is relevant?"
   ]
  },
  {
   "cell_type": "code",
   "execution_count": null,
   "metadata": {
    "slideshow": {
     "slide_type": "fragment"
    }
   },
   "outputs": [],
   "source": [
    "#Change of index\n",
    "df.index=[1,2,0]\n",
    "print('df after the change of the index:')\n",
    "display(df)"
   ]
  },
  {
   "cell_type": "code",
   "execution_count": null,
   "metadata": {
    "slideshow": {
     "slide_type": "fragment"
    }
   },
   "outputs": [],
   "source": [
    "display('loc:',df.loc[0],'iloc',df.iloc[0])"
   ]
  },
  {
   "cell_type": "markdown",
   "metadata": {},
   "source": [
    "Once again the suggestion is to use names instead of position each time it's possible"
   ]
  },
  {
   "cell_type": "markdown",
   "metadata": {},
   "source": [
    "## Exercise DF\n",
    "\n",
    "  1. Create a dataframe, `dfEx1` with **2** columns and **3** rows. \n",
    "  2. Create a second dataframe, `dfEx2`, with **3** columns and **3** rows.\n",
    "  3. Select one row from the `dfEx1` using `iloc` and add the values as a new columns in column of `dfEx2`.\n",
    "  4. Now select two row and two columns in `dfEx2` using `loc` and store the values in a new dataframe.\n",
    "  \n",
    "**NOTE** check the type of the results os `iloc` and remember that we can add a column using a `list`."
   ]
  },
  {
   "cell_type": "code",
   "execution_count": null,
   "metadata": {},
   "outputs": [],
   "source": []
  },
  {
   "cell_type": "code",
   "execution_count": null,
   "metadata": {},
   "outputs": [],
   "source": []
  },
  {
   "cell_type": "markdown",
   "metadata": {
    "slideshow": {
     "slide_type": "slide"
    }
   },
   "source": [
    "## Warning\n",
    "\n",
    "If during the selection the dataframes number of columns is __1__ , the type of the object changes from `pd.DataFrame` to `pandas.core.series.Series`. \n",
    "\n",
    "This is valid also if you have 2 colum but one __is the index__"
   ]
  },
  {
   "cell_type": "markdown",
   "metadata": {
    "slideshow": {
     "slide_type": "slide"
    }
   },
   "source": []
  },
  {
   "cell_type": "code",
   "execution_count": null,
   "metadata": {
    "slideshow": {
     "slide_type": "subslide"
    }
   },
   "outputs": [],
   "source": [
    "print('Original type',type(df2))\n",
    "display(df2)\n",
    "print('Only index',type(df2.set_index('max_speed')))\n",
    "print('Only selection',type(df2.iloc[:,0]))\n",
    "display(df2.set_index('max_speed').iloc[:,0])\n",
    "print(type(df2.set_index('max_speed').loc[:,'shield']))"
   ]
  },
  {
   "cell_type": "markdown",
   "metadata": {
    "slideshow": {
     "slide_type": "slide"
    }
   },
   "source": [
    "## Drop and other suff\n",
    "\n",
    "After the selction of columns and rows let's focus on how to `drop` a column (aka selct out) from a dataframe.\n"
   ]
  },
  {
   "cell_type": "code",
   "execution_count": null,
   "metadata": {
    "slideshow": {
     "slide_type": "fragment"
    }
   },
   "outputs": [],
   "source": [
    "#Let's drop c from df\n",
    "df=pd.DataFrame({'a':[1,2,3],'b':[4,5,6],'c':[0,0,0]})\n",
    "display(df)\n",
    "df.drop(['c'],axis=1)\n",
    "display('df after the drop of c',df)"
   ]
  },
  {
   "cell_type": "markdown",
   "metadata": {},
   "source": [
    "Drop is another case in which the use of inplace is very relevant."
   ]
  },
  {
   "cell_type": "code",
   "execution_count": null,
   "metadata": {
    "slideshow": {
     "slide_type": "fragment"
    }
   },
   "outputs": [],
   "source": [
    "df.drop(columns=['b'],inplace=True)\n",
    "display('df after the drop of b',df)"
   ]
  },
  {
   "cell_type": "code",
   "execution_count": null,
   "metadata": {
    "slideshow": {
     "slide_type": "fragment"
    }
   },
   "outputs": [],
   "source": [
    "df.columns=['aaa','ccc']\n",
    "display(df)\n",
    "#We can also drop rows\n",
    "df['nomi']=['pippo','pluto','topolino']\n",
    "display(df)"
   ]
  },
  {
   "cell_type": "code",
   "execution_count": null,
   "metadata": {
    "slideshow": {
     "slide_type": "fragment"
    }
   },
   "outputs": [],
   "source": [
    "df.set_index(['nomi'],inplace=True)\n",
    "display('df after the index definitio',df)"
   ]
  },
  {
   "cell_type": "code",
   "execution_count": null,
   "metadata": {
    "slideshow": {
     "slide_type": "fragment"
    }
   },
   "outputs": [],
   "source": [
    "display('df after the drop of the row with label pluto',df.drop(['pluto'],axis=0))"
   ]
  },
  {
   "cell_type": "markdown",
   "metadata": {},
   "source": [
    "We have seen how to drop columns and rows, but if we want to drop some values? For example, how we can drop some missing values?"
   ]
  },
  {
   "cell_type": "code",
   "execution_count": null,
   "metadata": {
    "slideshow": {
     "slide_type": "fragment"
    }
   },
   "outputs": [],
   "source": [
    "dfNan=pd.DataFrame([[1,np.nan,'pippo'],[2,'b','pluto'],[3,'c','topolino'],[np.nan,np.nan,'minnie'],[np.nan,np.nan,np.nan]])\n",
    "display(dfNan)"
   ]
  },
  {
   "cell_type": "code",
   "execution_count": null,
   "metadata": {
    "slideshow": {
     "slide_type": "fragment"
    }
   },
   "outputs": [],
   "source": [
    "dfNan.dropna()"
   ]
  },
  {
   "cell_type": "markdown",
   "metadata": {},
   "source": [
    "Can you describe me what is happening in the chunck below?"
   ]
  },
  {
   "cell_type": "code",
   "execution_count": null,
   "metadata": {
    "slideshow": {
     "slide_type": "fragment"
    }
   },
   "outputs": [],
   "source": [
    "res2Print={'orig':dfNan,'nothing':dfNan.dropna(),\n",
    "            'axis=0':dfNan.dropna(axis=0),\n",
    "            'axis=1':dfNan.dropna(axis=1),\n",
    "           'how=any':dfNan.dropna(how='any'),\n",
    "           'how=all':dfNan.dropna(how='all')}\n",
    "\n",
    "for curConf,curDF in res2Print.items():\n",
    "    print('dropna with %s'%curConf)\n",
    "    display(curDF)"
   ]
  },
  {
   "cell_type": "markdown",
   "metadata": {},
   "source": [
    "## Exercise Drop\n",
    "\n",
    "Create a dataframe like this \n",
    "\n",
    "| let | num | col    | fru    |\n",
    "|-----|-----|--------|--------|\n",
    "| a   | 1   | red    | apple  |\n",
    "| b   | 2   | green  | banana |\n",
    "| c   | 3   | blue   | np.nan |\n",
    "| d   | 4   | yellow | peach  |\n",
    "\n",
    "than remove column `num`.\n",
    "\n",
    "Remove also the row `a`.\n",
    "\n",
    "Remove the columns with the `nan` value.\n",
    "\n",
    "What is the type of the dataframe?"
   ]
  },
  {
   "cell_type": "code",
   "execution_count": null,
   "metadata": {},
   "outputs": [],
   "source": [
    "import pandas as pd \n",
    "import numpy as np\n",
    "dictDF = {'let':['a','b','c','d'],\n",
    "         'num':[1,2,3,4],\n",
    "         'col':['red','green','blue','yellow'],\n",
    "         'fru':['apple','banana',np.nan,'peach']}\n",
    "df = pd.DataFrame(dictDF)\n",
    "display(df)"
   ]
  },
  {
   "cell_type": "code",
   "execution_count": null,
   "metadata": {},
   "outputs": [],
   "source": [
    "df.drop(columns=['num'],inplace=True)\n",
    "df"
   ]
  },
  {
   "cell_type": "code",
   "execution_count": null,
   "metadata": {},
   "outputs": [],
   "source": [
    "df.set_index('let',inplace=True)\n",
    "df"
   ]
  },
  {
   "cell_type": "code",
   "execution_count": null,
   "metadata": {},
   "outputs": [],
   "source": [
    "df.drop('a',inplace=True,axis=0)\n",
    "df"
   ]
  },
  {
   "cell_type": "code",
   "execution_count": null,
   "metadata": {},
   "outputs": [],
   "source": [
    "df.dropna(axis=1,inplace=True)\n",
    "display(df)"
   ]
  },
  {
   "cell_type": "code",
   "execution_count": null,
   "metadata": {},
   "outputs": [],
   "source": [
    "print(type(df))\n",
    "type(df.loc[:,'col'])"
   ]
  },
  {
   "cell_type": "markdown",
   "metadata": {
    "slideshow": {
     "slide_type": "slide"
    }
   },
   "source": [
    "## Join of dataframes\n",
    "\n",
    "A very handy function to use on dataframe is `join()`.\n",
    "\n",
    "With join it is possible to combine different dataframe using one column as a key.\n",
    "\n",
    "This function can be found also in R using `dplyr`."
   ]
  },
  {
   "cell_type": "code",
   "execution_count": null,
   "metadata": {
    "slideshow": {
     "slide_type": "subslide"
    }
   },
   "outputs": [],
   "source": [
    "dfLeft=pd.DataFrame({'key':['a','b','d','f'],'cost':[1,2,3,4]})\n",
    "dfRight=pd.DataFrame({'key':['a','b','c','f'],'revenue':[10,20,30,40]})\n",
    "display(dfLeft)\n",
    "display(dfRight)\n",
    "display(dfLeft.join(dfRight))#lsuffix='_l',rsuffix='_r'"
   ]
  },
  {
   "cell_type": "code",
   "execution_count": null,
   "metadata": {
    "slideshow": {
     "slide_type": "subslide"
    }
   },
   "outputs": [],
   "source": [
    "print('Using index')\n",
    "dfRight.set_index('key',inplace=True)\n",
    "display(dfLeft.join(dfRight,on='key'))"
   ]
  },
  {
   "cell_type": "code",
   "execution_count": null,
   "metadata": {
    "slideshow": {
     "slide_type": "subslide"
    }
   },
   "outputs": [],
   "source": [
    "#ALternative\n",
    "dfLeft.set_index('key').join(dfRight,how='inner')"
   ]
  },
  {
   "cell_type": "code",
   "execution_count": null,
   "metadata": {},
   "outputs": [],
   "source": [
    "display(dfRight)\n",
    "display(dfLeft)"
   ]
  },
  {
   "cell_type": "code",
   "execution_count": null,
   "metadata": {
    "slideshow": {
     "slide_type": "subslide"
    }
   },
   "outputs": [],
   "source": [
    "howTypes=['left','right','inner','outer']\n",
    "d={'how':'','other':dfRight}\n",
    "for curType in howTypes:\n",
    "    print('how:{}'.format(curType))\n",
    "    d['how']=curType\n",
    "    display(dfLeft.set_index('key').join(**d))"
   ]
  },
  {
   "cell_type": "markdown",
   "metadata": {
    "slideshow": {
     "slide_type": "slide"
    }
   },
   "source": [
    "## Join in R\n",
    "\n",
    "Just to make a conmparison we are going to make the same join in R.\n",
    "\n",
    "To do this we'll use the possibility of using a dataframe creted with Pandas in a Python cell inside an R cell.\n",
    "\n",
    "This is done by `magic` and the command is `%%R -i nameofthePythonDatframe` "
   ]
  },
  {
   "cell_type": "code",
   "execution_count": null,
   "metadata": {
    "slideshow": {
     "slide_type": "subslide"
    }
   },
   "outputs": [],
   "source": [
    "#First we have to remove the index from dfRight\n",
    "dfRight.reset_index(inplace=True)\n",
    "#dfLeft.reset_index(inplace=True)"
   ]
  },
  {
   "cell_type": "code",
   "execution_count": null,
   "metadata": {
    "slideshow": {
     "slide_type": "fragment"
    }
   },
   "outputs": [],
   "source": [
    "%%R -i dfLeft,dfRight\n",
    "library(dplyr)\n",
    "dfLeft %>%\n",
    "    inner_join(dfRight,by='key')"
   ]
  },
  {
   "cell_type": "markdown",
   "metadata": {
    "slideshow": {
     "slide_type": "slide"
    }
   },
   "source": [
    "## End Exercise #1\n",
    "\n",
    "You have to:\n",
    "\n",
    "  - Create an `np.array` with __3__ columns and **4** rows and transform it in an `pd.dataFrame`. Value and column's names must be like the table below  \n",
    "  - Create a first datafreme with columns **key** and **col1** and the **first** 3 rows\n",
    "  - Create a first datafreme with columns **key** and **col2** and the **last** 3 rows\n",
    "  - Join the two dataframes on key in **inner** mode\n",
    "  - Drop one column of the result dataframe\n",
    "  \n",
    "| key | col1 | col2 |\n",
    "|---|:-:|----|\n",
    "| a | 1 | 10 |\n",
    "| b | 2 | 20 |\n",
    "| c | 3 | 30 |\n",
    "| b | 4 | 40 |\n",
    "| c | 5 | 50 |\n",
    "| d | 6 | 60 |"
   ]
  },
  {
   "cell_type": "code",
   "execution_count": null,
   "metadata": {},
   "outputs": [],
   "source": []
  },
  {
   "cell_type": "markdown",
   "metadata": {},
   "source": [
    "## Real-life example\n",
    "\n",
    "Reading a CSV file can be tricky some times."
   ]
  },
  {
   "cell_type": "code",
   "execution_count": null,
   "metadata": {},
   "outputs": [],
   "source": [
    "exPath = '/Users/msaletta/workingDir/Code/didattica_interna/garanzieAdd/data/fullData_5000.csv'\n",
    "\n",
    "dfRead = pd.read_csv(exPath,sep=',')#, keep_default_na=False, na_values=[np.nan, ''],dtype={'cap':str})\n",
    "dfRead.head()"
   ]
  },
  {
   "cell_type": "code",
   "execution_count": null,
   "metadata": {},
   "outputs": [],
   "source": [
    "setProv = set(dfRead.provincia)\n",
    "'NA' in setProv"
   ]
  },
  {
   "cell_type": "code",
   "execution_count": null,
   "metadata": {},
   "outputs": [],
   "source": []
  }
 ],
 "metadata": {
  "celltoolbar": "Slideshow",
  "kernelspec": {
   "display_name": "Python 3",
   "language": "python",
   "name": "python3"
  },
  "language_info": {
   "codemirror_mode": {
    "name": "ipython",
    "version": 3
   },
   "file_extension": ".py",
   "mimetype": "text/x-python",
   "name": "python",
   "nbconvert_exporter": "python",
   "pygments_lexer": "ipython3",
   "version": "3.7.3"
  },
  "toc": {
   "base_numbering": 1,
   "nav_menu": {},
   "number_sections": false,
   "sideBar": false,
   "skip_h1_title": false,
   "title_cell": "Table of Contents",
   "title_sidebar": "Contents",
   "toc_cell": false,
   "toc_position": {},
   "toc_section_display": false,
   "toc_window_display": false
  }
 },
 "nbformat": 4,
 "nbformat_minor": 2
}
