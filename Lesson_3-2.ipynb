{
 "cells": [
  {
   "cell_type": "markdown",
   "metadata": {
    "slideshow": {
     "slide_type": "slide"
    }
   },
   "source": [
    "Introduction to Python\n",
    "================================\n",
    "\n",
    "Lesson 2 - Part 2\n",
    "--------"
   ]
  },
  {
   "cell_type": "markdown",
   "metadata": {
    "slideshow": {
     "slide_type": "slide"
    }
   },
   "source": [
    "## Summary\n",
    "\n",
    "In this Lesson we will start using Python in order to create some models.\n",
    "\n",
    "The models that we will create are:\n",
    "  - Linear\n",
    "\n",
    "In order to do so we must intruduce some important libraries:\n",
    "\n",
    "  - Pandas\n",
    "  - Sklearn\n",
    "  - Numpy"
   ]
  },
  {
   "cell_type": "code",
   "execution_count": null,
   "metadata": {
    "slideshow": {
     "slide_type": "skip"
    }
   },
   "outputs": [],
   "source": [
    "%load_ext rpy2.ipython"
   ]
  },
  {
   "cell_type": "code",
   "execution_count": null,
   "metadata": {
    "slideshow": {
     "slide_type": "skip"
    }
   },
   "outputs": [],
   "source": [
    "from IPython.display import display, HTML"
   ]
  },
  {
   "cell_type": "markdown",
   "metadata": {
    "slideshow": {
     "slide_type": "slide"
    }
   },
   "source": [
    "## Linear Model\n",
    "\n",
    "Now we will create a linear model using the data of the `diabetes`  dataset of `SKLearn`.\n",
    "\n",
    "The description of the dataset, taken from the [Doc. Page](http://scikit-learn.org/stable/datasets/index.html#diabetes-dataset), says:\n",
    "\n",
    "*Ten baseline variables, age, sex, body mass index, average blood pressure, and six blood serum measurements were obtained for each of n = 442 diabetes patients, as well as the response of interest, a quantitative measure of disease progression one year after baseline.*\n",
    "\n",
    "We will use the **body max index** to predict the **target variabile**, i.e. the measure of disease progression one year after baseline.\n",
    "\n",
    "The same analysis is done 3 times on order to show you how to handle it by using:\n",
    "\n",
    "  - `Numpy`\n",
    "  - `Pandas`\n",
    "  - `R`"
   ]
  },
  {
   "cell_type": "markdown",
   "metadata": {
    "slideshow": {
     "slide_type": "slide"
    }
   },
   "source": [
    "## Numpy  solution\n",
    "\n",
    "Let's see how to solve the problem using `Numpy`.\n",
    "\n",
    "**NOTE**: the graph at the end of the analysis is done using the library `matplotlib.pyplot`"
   ]
  },
  {
   "cell_type": "code",
   "execution_count": null,
   "metadata": {
    "slideshow": {
     "slide_type": "subslide"
    }
   },
   "outputs": [],
   "source": [
    "import matplotlib.pyplot as plt\n",
    "import numpy as np\n",
    "from sklearn import datasets, linear_model\n",
    "from sklearn.metrics import mean_squared_error, r2_score\n",
    "\n",
    "# Load the diabetes dataset\n",
    "diabetes = datasets.load_diabetes()\n",
    "display(diabetes)\n",
    "print('The type of diabetes.data:',type(diabetes.data),diabetes.data.shape)\n",
    "print('The type of diabetes.target:',type(diabetes.target),diabetes.target.shape)"
   ]
  },
  {
   "cell_type": "code",
   "execution_count": null,
   "metadata": {},
   "outputs": [],
   "source": []
  },
  {
   "cell_type": "code",
   "execution_count": null,
   "metadata": {
    "slideshow": {
     "slide_type": "fragment"
    }
   },
   "outputs": [],
   "source": [
    "# Use only one feature\n",
    "#diabetes_X = diabetes.data[:, np.newaxis, 2]\n",
    "diabetes_X = diabetes.data[:,2].reshape(-1,1)\n",
    "print(diabetes_X.shape)"
   ]
  },
  {
   "cell_type": "code",
   "execution_count": null,
   "metadata": {
    "slideshow": {
     "slide_type": "fragment"
    }
   },
   "outputs": [],
   "source": [
    "# Split the data into training/testing sets\n",
    "diabetes_X_train = diabetes_X[:-20]\n",
    "diabetes_X_test = diabetes_X[-20:]\n",
    "print('Dimension of diabetes_X_train:',diabetes_X_train.shape)\n",
    "print('Dimension of diabetes_X_test:',diabetes_X_test.shape)"
   ]
  },
  {
   "cell_type": "code",
   "execution_count": null,
   "metadata": {
    "slideshow": {
     "slide_type": "fragment"
    }
   },
   "outputs": [],
   "source": [
    "# Split the targets into training/testing sets\n",
    "diabetes_y_train = diabetes.target[:-20]\n",
    "diabetes_y_test = diabetes.target[-20:]\n",
    "print('Dimension of diabetes_y_train:',diabetes_y_train.shape)\n",
    "print('Dimension of diabetes_y_test:',diabetes_y_test.shape)"
   ]
  },
  {
   "cell_type": "markdown",
   "metadata": {
    "slideshow": {
     "slide_type": "fragment"
    }
   },
   "source": [
    "**NOTE**: as you can see the shape of train and test are different. This is necessary because the linear regression needs an `x` variables to be a **2D array**"
   ]
  },
  {
   "cell_type": "code",
   "execution_count": null,
   "metadata": {
    "slideshow": {
     "slide_type": "fragment"
    }
   },
   "outputs": [],
   "source": [
    "# Create linear regression object\n",
    "regr = linear_model.LinearRegression()\n",
    "\n",
    "# Train the model using the training sets\n",
    "regr.fit(diabetes_X_train, diabetes_y_train)\n",
    "\n",
    "# Make predictions using the testing set\n",
    "diabetes_y_pred = regr.predict(diabetes_X_test)\n",
    "\n",
    "# The coefficients\n",
    "print('Coefficients: \\n', regr.coef_,regr.intercept_)"
   ]
  },
  {
   "cell_type": "code",
   "execution_count": null,
   "metadata": {
    "slideshow": {
     "slide_type": "fragment"
    }
   },
   "outputs": [],
   "source": [
    "# The mean squared error\n",
    "print(\"Mean squared error: %.2f\"\n",
    "      % mean_squared_error(diabetes_y_test, diabetes_y_pred))\n",
    "print(\"Root squared error: %.2f\"\n",
    "      % mean_squared_error(diabetes_y_test, diabetes_y_pred,squared=False))\n",
    "# Explained variance score: 1 is perfect prediction\n",
    "print('Variance score: %.2f' % r2_score(diabetes_y_test, diabetes_y_pred))"
   ]
  },
  {
   "cell_type": "code",
   "execution_count": null,
   "metadata": {
    "slideshow": {
     "slide_type": "fragment"
    }
   },
   "outputs": [],
   "source": [
    "# Plot outputs\n",
    "\n",
    "#Scatter and line\n",
    "plt.scatter(diabetes_X_test, diabetes_y_test,  color='black')\n",
    "plt.plot(diabetes_X_test, diabetes_y_pred, color='blue', linewidth=3)\n",
    "\n",
    "#Axis \n",
    "plt.tick_params(axis='both', which='major', labelsize=10, pad=15)\n",
    "plt.tick_params(axis='y', which='minor', labelsize=10, pad=15)\n",
    "\n",
    "#Print graph\n",
    "plt.show()\n"
   ]
  },
  {
   "cell_type": "markdown",
   "metadata": {
    "slideshow": {
     "slide_type": "slide"
    }
   },
   "source": [
    "## Pandas  solution\n",
    "\n",
    "Let's see how to solve the problem using `Pandas`.\n",
    "\n",
    "Again the graph at the end of the analysis is done using the library `matplotlib.pyplot`."
   ]
  },
  {
   "cell_type": "code",
   "execution_count": null,
   "metadata": {
    "slideshow": {
     "slide_type": "subslide"
    }
   },
   "outputs": [],
   "source": [
    "import matplotlib.pyplot as plt\n",
    "import pandas as pd\n",
    "import numpy as np\n",
    "from sklearn import datasets, linear_model\n",
    "from sklearn.metrics import mean_squared_error, r2_score\n",
    "\n",
    "testDim = 20\n",
    "nrows = diabetes.data.shape[0]\n",
    "index = ['patient_%i'%i for i in range(0,nrows)]\n",
    "df = pd.DataFrame(diabetes.data,\n",
    "                  columns=['Age','Sex','Body_mass_index','Average_blood_pressure','S1','S2','S3','S4','S5','S6'],\n",
    "                  index=index)\n",
    "df.head()"
   ]
  },
  {
   "cell_type": "code",
   "execution_count": null,
   "metadata": {
    "slideshow": {
     "slide_type": "subslide"
    }
   },
   "outputs": [],
   "source": [
    "# d_X = df.iloc[:,2]\n",
    "d_X = df[['Body_mass_index']]\n",
    "d_Y = pd.DataFrame(diabetes.target,index=index)\n",
    "#testPats = ['patient_%i'%i for i in range()]\n",
    "d_X_train = d_X.iloc[:-testDim]\n",
    "d_X_test = d_X.iloc[-testDim:]\n",
    "print('Dimension of d_X_train:',d_X_train.shape)\n",
    "print('Dimension of d_X_test:',d_X_test.shape)\n",
    "d_Y_train = d_Y.iloc[:-testDim]\n",
    "d_Y_test = d_Y.iloc[-testDim:]\n",
    "print('Dimension of d_Y_train:',d_Y_train.shape)\n",
    "print('Dimension of d_Y_test:',d_Y_test.shape)"
   ]
  },
  {
   "cell_type": "code",
   "execution_count": null,
   "metadata": {
    "slideshow": {
     "slide_type": "fragment"
    }
   },
   "outputs": [],
   "source": [
    "# Create linear regression object\n",
    "regr = linear_model.LinearRegression()\n",
    "\n",
    "# Train the model using the training sets\n",
    "regr.fit(d_X_train, d_Y_train)\n",
    "\n",
    "# Make predictions using the testing set\n",
    "d_Y_pred = regr.predict(d_X_test)\n",
    "# The coefficients\n",
    "print('Coefficients: \\n', regr.coef_,regr.intercept_)\n",
    "# The mean squared error\n",
    "print(\"Mean squared error: %.2f\"\n",
    "      % mean_squared_error(d_Y_test, d_Y_pred))\n",
    "# Explained variance score: 1 is perfect prediction\n",
    "print('Variance score: %.2f' % r2_score(d_Y_test, d_Y_pred))"
   ]
  },
  {
   "cell_type": "code",
   "execution_count": null,
   "metadata": {
    "slideshow": {
     "slide_type": "fragment"
    }
   },
   "outputs": [],
   "source": [
    "# Plot outputs\n",
    "plt.scatter(d_X_test, d_Y_test,  color='blue')\n",
    "plt.plot(d_X_test, d_Y_pred, color='red', linewidth=3)\n",
    "\n",
    "plt.tick_params(axis='both', which='major', labelsize=10, pad=15)\n",
    "plt.tick_params(axis='y', which='minor', labelsize=10, pad=15)\n",
    "\n",
    "plt.show()\n"
   ]
  },
  {
   "cell_type": "markdown",
   "metadata": {},
   "source": [
    "## Exercise \n",
    "what I'm doing in the box below?"
   ]
  },
  {
   "cell_type": "code",
   "execution_count": null,
   "metadata": {},
   "outputs": [],
   "source": [
    "start=0\n",
    "end=testDim\n",
    "allPats = set(index)\n",
    "ret = []\n",
    "while end<=nrows:\n",
    "    testPats = {'patient_%i'%i for i in range(start,end)}\n",
    "    trainPats =allPats.difference(testPats)\n",
    "    d_X_train = d_X.loc[trainPats]\n",
    "    d_X_test = d_X.loc[testPats]\n",
    "    print('Dimension of d_X_train:',d_X_train.shape)\n",
    "    print('Dimension of d_X_test:',d_X_test.shape)\n",
    "    d_Y_train = d_Y.loc[trainPats]\n",
    "    d_Y_test = d_Y.loc[testPats]\n",
    "    print('Dimension of d_Y_train:',d_Y_train.shape)\n",
    "    print('Dimension of d_Y_test:',d_Y_test.shape)\n",
    "    regr = linear_model.LinearRegression()\n",
    "    regr.fit(d_X_train, d_Y_train)\n",
    "    d_Y_pred = regr.predict(d_X_test)\n",
    "    # The coefficients\n",
    "    print('Coefficients: \\n', regr.coef_,regr.intercept_)\n",
    "    # The mean squared error\n",
    "    rmse = mean_squared_error(d_Y_test, d_Y_pred,squared=False)\n",
    "    print(\"Mean squared error: %.2f\"\n",
    "          % rmse)\n",
    "    # Explained variance score: 1 is perfect prediction\n",
    "    print('Variance score: %.2f' % r2_score(d_Y_test, d_Y_pred))\n",
    "    start += testDim\n",
    "    end += testDim\n",
    "    ret.append(rmse)\n",
    "res = pd.DataFrame({'rmse':ret})\n",
    "print('Averaged RMSE: %f'%res['rmse'].mean())"
   ]
  },
  {
   "cell_type": "markdown",
   "metadata": {
    "slideshow": {
     "slide_type": "slide"
    }
   },
   "source": [
    "## R solution\n",
    "\n",
    "Let's see how to solve the problem using R.\n",
    "\n",
    "Please note how it is easier to plot the graph with R."
   ]
  },
  {
   "cell_type": "code",
   "execution_count": null,
   "metadata": {
    "slideshow": {
     "slide_type": "subslide"
    }
   },
   "outputs": [],
   "source": [
    "%%R -i df,d_Y\n",
    "library(dplyr)\n",
    "library(magrittr)\n",
    "library(ggplot2)\n",
    "\n",
    "\n",
    "\n",
    "nrow=dim(df)[1]\n",
    "ntest=20\n",
    "df['target']=d_Y\n",
    "df %<>%\n",
    "  select(Body_mass_index,target)\n",
    "df_Train=df[1:(nrow-ntest),]\n",
    "df_Test=df[(nrow-ntest+1):nrow,]\n",
    "\n",
    "model=lm(target ~ Body_mass_index,data=df_Train)\n",
    "\n",
    "print(model)\n",
    "\n",
    "pred=predict.lm(model,df_Test)\n",
    "df_Test %>% \n",
    "  mutate(pred=pred) %>% \n",
    "  ggplot() +\n",
    "  geom_point(aes(Body_mass_index,target)) +\n",
    "  geom_line(aes(Body_mass_index,pred))   \n"
   ]
  },
  {
   "cell_type": "markdown",
   "metadata": {
    "slideshow": {
     "slide_type": "slide"
    }
   },
   "source": [
    "## Random Forest Classificator\n",
    "\n",
    "Now we'll use a rando forest on th on the breast cancer dataset ([Man. Page](http://scikit-learn.org/stable/datasets/index.html#breast-cancer-dataset)).\n"
   ]
  },
  {
   "cell_type": "code",
   "execution_count": null,
   "metadata": {
    "slideshow": {
     "slide_type": "subslide"
    }
   },
   "outputs": [],
   "source": [
    "from sklearn.datasets import load_breast_cancer\n",
    "import pandas as pd\n",
    "from sklearn.ensemble import RandomForestClassifier as rfc\n",
    "data = load_breast_cancer()\n",
    "df_X=pd.DataFrame(data.data)\n",
    "df_Y=data.target\n",
    "print('shape di df_X:',df_X.shape)\n",
    "print('shape di df_Y:',df_Y.shape)"
   ]
  },
  {
   "cell_type": "code",
   "execution_count": null,
   "metadata": {
    "slideshow": {
     "slide_type": "subslide"
    }
   },
   "outputs": [],
   "source": [
    "nrow=df_X.shape[0]\n",
    "ntest=50\n",
    "df_X_train=df_X.head(nrow-ntest)\n",
    "df_Y_train=df_Y[0:(nrow-ntest)]\n",
    "df_X_test=df_X.tail(ntest)\n",
    "df_Y_test=df_Y[(nrow-ntest):nrow]\n",
    "print(df_Y_test.shape)\n",
    "print(df_Y_train.shape)"
   ]
  },
  {
   "cell_type": "code",
   "execution_count": null,
   "metadata": {
    "slideshow": {
     "slide_type": "subslide"
    }
   },
   "outputs": [],
   "source": [
    "model = rfc(n_jobs=-1,oob_score=True,n_estimators=100)\n",
    "print('Model parameters:',model)\n",
    "model.fit(df_X_train,df_Y_train)\n",
    "print('Importance of the features',model.feature_importances_)\n",
    "print('Acuracy od the model during train is: %i%s'%(int(model.oob_score_*100),'%'))\n",
    "pred=model.predict(df_X_test)\n",
    "diff=pred-df_Y_test\n",
    "diff=sum(abs(diff))\n",
    "acc=1-diff/len(df_Y_test)\n",
    "print('Accuracy of the model on the test set: %i%s'%(int(acc*100),'%'))\n",
    "print('Accuracy of the model on the test set: %i%s'%(int(model.score(df_X_test,df_Y_test)*100),'%'))"
   ]
  },
  {
   "cell_type": "markdown",
   "metadata": {
    "slideshow": {
     "slide_type": "fragment"
    }
   },
   "source": [
    "**NOTE**: we can do the same analysis in a easier way."
   ]
  },
  {
   "cell_type": "code",
   "execution_count": null,
   "metadata": {
    "slideshow": {
     "slide_type": "fragment"
    }
   },
   "outputs": [],
   "source": [
    "from sklearn.model_selection import cross_val_score\n",
    "model = rfc(n_jobs=-1,n_estimators=10)\n",
    "scores = cross_val_score(model, data.data, data.target, cv=10)\n",
    "# scores = cross_val_score(model,XFake,YFake, cv=10)\n",
    "print(\"Accuracy: %0.2f (+/- %0.2f)\" % (scores.mean(), scores.std() * 2))           \n",
    "\n"
   ]
  },
  {
   "cell_type": "markdown",
   "metadata": {
    "slideshow": {
     "slide_type": "slide"
    }
   },
   "source": [
    "## Exponential fit\n",
    "\n",
    "In the last part of this lesson we'll see how to implement a function ad try to find the best parameters in order to obtain the best fit.\n",
    "\n",
    "For this scope we'll use the function `optimize.minimize` of `sicpy` ([library page](https://docs.scipy.org/doc/scipy/reference/generated/scipy.optimize.minimize.html))."
   ]
  },
  {
   "cell_type": "code",
   "execution_count": null,
   "metadata": {
    "slideshow": {
     "slide_type": "subslide"
    }
   },
   "outputs": [],
   "source": [
    "import numpy as np\n",
    "import scipy\n",
    "import matplotlib.pyplot as plt\n",
    "\n",
    "baskets = np.array([475, 108, 2, 38, 320])\n",
    "scaling_factor = np.array([95.5, 57.7, 1.4, 21.9, 88.8])\n",
    "\n",
    "def lsq(arg):\n",
    "    a = arg[0]*100\n",
    "    b = arg[1]*100\n",
    "    c = arg[2]*0.1\n",
    "    now = a - (b*np.exp(c * baskets)) - scaling_factor\n",
    "    return np.sum(now**2)\n",
    "\n",
    "def pred(arg):\n",
    "    a = arg[0]*100\n",
    "    b = arg[1]*100\n",
    "    c = arg[2]*0.1\n",
    "    ret = a - (b*np.exp(c * baskets))\n",
    "    return ret\n",
    "\n",
    "guesses = [1, 1, -0.9]\n",
    "res = scipy.optimize.minimize(lsq, guesses)\n",
    "\n",
    "print('Message:',res.message)\n",
    "\n",
    "print('X:',res.x)\n",
    "\n",
    "print([lsq(guesses), lsq(res.x)])"
   ]
  },
  {
   "cell_type": "code",
   "execution_count": null,
   "metadata": {
    "slideshow": {
     "slide_type": "subslide"
    }
   },
   "outputs": [],
   "source": [
    "#Reorder of variabiles\n",
    "baskets=np.sort(baskets)\n",
    "scaling_factor=np.sort(scaling_factor)\n",
    "#Prevision\n",
    "prev=pred(res.x)\n",
    "#Plot\n",
    "plt.scatter(baskets,scaling_factor,color='black')\n",
    "plt.plot(baskets,prev)\n",
    "plt.show"
   ]
  },
  {
   "cell_type": "markdown",
   "metadata": {},
   "source": [
    "## End Exercise \n",
    "\n",
    "Following the examples above we want to use the *Boston Houses* dataset to create a linear model.\n",
    "\n",
    "We want to:\n",
    "  1. import the dataset (se below)\n",
    "  2. Separate target and data\n",
    "  3. Select 3 feautres \n",
    "  3. Split train and test: the last 50 samples are for the test  \n",
    "  4. Train the model \n",
    "  \n",
    "Hint:\n",
    "\n",
    "```\n",
    "from sklearn import datasets \n",
    "ds  = datasets.load_boston()\n",
    "```"
   ]
  },
  {
   "cell_type": "markdown",
   "metadata": {},
   "source": [
    "## Tips and Tricks\n",
    "\n",
    "Let's focous on some tricks to increase performance."
   ]
  },
  {
   "cell_type": "markdown",
   "metadata": {},
   "source": [
    "### How to append a line to a DF"
   ]
  },
  {
   "cell_type": "code",
   "execution_count": null,
   "metadata": {},
   "outputs": [],
   "source": [
    "%%timeit -n 1 -r 1\n",
    "dfFake2 = pd.DataFrame({'a':[1],'b':[2]})\n",
    "for i in range(0,10000):\n",
    "    curDF = pd.DataFrame({'a':[1],'b':[2]}) \n",
    "    dfFake2 = dfFake2.append(curDF)\n",
    "print(dfFake2.shape)\n",
    "print(dfFake2.head())"
   ]
  },
  {
   "cell_type": "code",
   "execution_count": null,
   "metadata": {},
   "outputs": [],
   "source": [
    "dfFake2"
   ]
  },
  {
   "cell_type": "code",
   "execution_count": null,
   "metadata": {},
   "outputs": [],
   "source": [
    "%%timeit -n 1 -r 1\n",
    "retList = []\n",
    "for i in range(0,10001):\n",
    "    curDict = {'a':1,'b':2}\n",
    "    retList.append(curDict)\n",
    "dfFake3 = pd.DataFrame(retList)\n",
    "print(dfFake3.shape)\n",
    "print(dfFake3.head())"
   ]
  },
  {
   "cell_type": "markdown",
   "metadata": {},
   "source": [
    "### `n_jobs` PARAMETER"
   ]
  },
  {
   "cell_type": "code",
   "execution_count": null,
   "metadata": {},
   "outputs": [],
   "source": [
    "import numpy as np\n",
    "import pandas as pd\n",
    "data = load_breast_cancer()\n",
    "type(data.target\n",
    "    )\n",
    "dfFake=pd.DataFrame()\n",
    "YFake=np.ndarray(shape=(1,0))\n",
    "XFake=np.ndarray(shape=(0,30))\n",
    "for i in range(0,1000):\n",
    "    XFake=np.append(XFake,data.data,axis=0)\n",
    "    YFake=np.append(YFake,data.target)\n",
    "print(XFake.shape)"
   ]
  },
  {
   "cell_type": "code",
   "execution_count": null,
   "metadata": {},
   "outputs": [],
   "source": [
    "scores = cross_val_score(model,XFake,YFake, cv=10)"
   ]
  }
 ],
 "metadata": {
  "celltoolbar": "Slideshow",
  "kernelspec": {
   "display_name": "Python 3",
   "language": "python",
   "name": "python3"
  },
  "language_info": {
   "codemirror_mode": {
    "name": "ipython",
    "version": 3
   },
   "file_extension": ".py",
   "mimetype": "text/x-python",
   "name": "python",
   "nbconvert_exporter": "python",
   "pygments_lexer": "ipython3",
   "version": "3.7.3"
  },
  "toc": {
   "base_numbering": 1,
   "nav_menu": {},
   "number_sections": false,
   "sideBar": false,
   "skip_h1_title": false,
   "title_cell": "Table of Contents",
   "title_sidebar": "Contents",
   "toc_cell": false,
   "toc_position": {},
   "toc_section_display": false,
   "toc_window_display": false
  }
 },
 "nbformat": 4,
 "nbformat_minor": 2
}
